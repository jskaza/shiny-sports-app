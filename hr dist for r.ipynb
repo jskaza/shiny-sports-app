{
 "cells": [
  {
   "cell_type": "code",
   "execution_count": 1,
   "metadata": {
    "collapsed": false
   },
   "outputs": [],
   "source": [
    "import numpy as np\n",
    "import pandas as pd\n",
    "import random\n",
    "from bs4 import BeautifulSoup\n",
    "import urllib2\n",
    "#import matplotlib.pyplot as plt\n",
    "#import plotly.plotly as py\n",
    "#from plotly.graph_objs import *"
   ]
  },
  {
   "cell_type": "code",
   "execution_count": 2,
   "metadata": {
    "collapsed": false
   },
   "outputs": [],
   "source": [
    "soup = BeautifulSoup(urllib2.urlopen('http://www.hittrackeronline.com/index.php?perpage=10000').read()) # read-in website"
   ]
  },
  {
   "cell_type": "code",
   "execution_count": 3,
   "metadata": {
    "collapsed": false
   },
   "outputs": [
    {
     "name": "stdout",
     "output_type": "stream",
     "text": [
      "1838\n"
     ]
    }
   ],
   "source": [
    "my_table = soup('table')[16] # table 16 has 2015 season hrs \n",
    "rows = my_table.findChildren(['tr'])\n",
    "print len(rows)"
   ]
  },
  {
   "cell_type": "code",
   "execution_count": 4,
   "metadata": {
    "collapsed": false
   },
   "outputs": [],
   "source": [
    "hitter=[] # hitter name\n",
    "pitcher=[] # pitcher name\n",
    "dist=[] # hr dist\n",
    "speed=[] # speed off bat\n",
    "apex=[] # hit apex\n",
    "\n",
    "size=15 # set sample size\n",
    "sample=random.sample(xrange(3, len(rows)-2), size)\n",
    "\n",
    "#for i in sample: # get a random subset of the data\n",
    "for i in range(3,len(rows)-2): # get the full dataset\n",
    "    hitter.append(soup('table')[16].findAll('tr')[i].findAll('td')[3])\n",
    "    pitcher.append(soup('table')[16].findAll('tr')[i].findAll('td')[5])\n",
    "    dist.append(soup('table')[16].findAll('tr')[i].findAll('td')[10])\n",
    "    speed.append(soup('table')[16].findAll('tr')[i].findAll('td')[11])\n",
    "    apex.append(soup('table')[16].findAll('tr')[i].findAll('td')[14])"
   ]
  },
  {
   "cell_type": "code",
   "execution_count": 5,
   "metadata": {
    "collapsed": false,
    "scrolled": true
   },
   "outputs": [],
   "source": [
    "# cleanup data\n",
    "for i in range(0,len(hitter)):\n",
    "    \n",
    "    hitter[i]=hitter[i].get_text()\n",
    "    hitter[i]=hitter[i].strip()\n",
    "    hitter[i]=hitter[i].encode('ascii','ignore')\n",
    "    \n",
    "    pitcher[i]=pitcher[i].get_text()\n",
    "    pitcher[i]=pitcher[i].strip()\n",
    "    pitcher[i]=pitcher[i].encode('ascii','ignore')\n",
    "    \n",
    "    dist[i]=dist[i].get_text()\n",
    "    dist[i]=dist[i].strip()\n",
    "    dist[i]=dist[i].encode('ascii','ignore')\n",
    "    dist[i]=int(dist[i])\n",
    "   \n",
    "    speed[i]=speed[i].get_text()\n",
    "    speed[i]=speed[i].strip()\n",
    "    speed[i]=speed[i].encode('ascii','ignore')\n",
    "    speed[i]=float(speed[i])\n",
    "    \n",
    "    apex[i]=apex[i].get_text()\n",
    "    apex[i]=apex[i].strip()\n",
    "    apex[i]=apex[i].encode('ascii','ignore')\n",
    "    apex[i]=int(apex[i])"
   ]
  },
  {
   "cell_type": "code",
   "execution_count": 6,
   "metadata": {
    "collapsed": false
   },
   "outputs": [],
   "source": [
    "hitter = [h.split(',')[1] + \" \" + h.split(',')[0] for h in hitter]\n",
    "pitcher = [p.split(',')[1] + \" \" + p.split(',')[0] for p in pitcher]"
   ]
  },
  {
   "cell_type": "code",
   "execution_count": 7,
   "metadata": {
    "collapsed": false,
    "scrolled": true
   },
   "outputs": [],
   "source": [
    "df = pd.DataFrame({'hitter': hitter,\n",
    "                   'pitcher': pitcher,\n",
    "                   'dist': dist,\n",
    "                   'speed': speed,\n",
    "                   'apex': apex})"
   ]
  },
  {
   "cell_type": "code",
   "execution_count": 9,
   "metadata": {
    "collapsed": false
   },
   "outputs": [],
   "source": [
    "df.to_csv(\"hr_data.csv\")"
   ]
  },
  {
   "cell_type": "code",
   "execution_count": null,
   "metadata": {
    "collapsed": true
   },
   "outputs": [],
   "source": []
  }
 ],
 "metadata": {
  "kernelspec": {
   "display_name": "Python 2",
   "language": "python",
   "name": "python2"
  },
  "language_info": {
   "codemirror_mode": {
    "name": "ipython",
    "version": 2
   },
   "file_extension": ".py",
   "mimetype": "text/x-python",
   "name": "python",
   "nbconvert_exporter": "python",
   "pygments_lexer": "ipython2",
   "version": "2.7.9"
  }
 },
 "nbformat": 4,
 "nbformat_minor": 0
}
