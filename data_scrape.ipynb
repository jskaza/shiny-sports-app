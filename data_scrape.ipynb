{
 "cells": [
  {
   "cell_type": "code",
   "execution_count": 1,
   "metadata": {
    "collapsed": false
   },
   "outputs": [],
   "source": [
    "import numpy as np\n",
    "import pandas as pd\n",
    "import random\n",
    "from bs4 import BeautifulSoup\n",
    "import urllib2"
   ]
  },
  {
   "cell_type": "code",
   "execution_count": 2,
   "metadata": {
    "collapsed": false
   },
   "outputs": [],
   "source": [
    "soup = BeautifulSoup(urllib2.urlopen('http://www.hittrackeronline.com/index.php?perpage=10000').read()) # read-in website"
   ]
  },
  {
   "cell_type": "code",
   "execution_count": 3,
   "metadata": {
    "collapsed": false
   },
   "outputs": [
    {
     "name": "stdout",
     "output_type": "stream",
     "text": [
      "2294\n"
     ]
    }
   ],
   "source": [
    "my_table = soup('table')[16] # table 16 has 2015 season hrs \n",
    "rows = my_table.findChildren(['tr'])\n",
    "print len(rows)"
   ]
  },
  {
   "cell_type": "code",
   "execution_count": 4,
   "metadata": {
    "collapsed": false
   },
   "outputs": [],
   "source": [
    "data = {'hitter': [], # hitter name\n",
    "        'pitcher': [], # pitcher name\n",
    "        'dist': [], # hr dist\n",
    "        'speed': [], # speed off bat\n",
    "        'apex': [], # hit apex\n",
    "        'elev': [], # elevation angle\n",
    "        'horiz': [] # horizontal angle\n",
    "        }\n",
    "\n",
    "keys = ['hitter', 'pitcher', 'dist', 'speed', 'apex', 'elev', 'horiz'] # need this because keys data.keys() prints in strange order\n",
    "cols = [3, 5, 10, 11, 14, 12, 13]\n",
    "\n",
    "size = 45 # set sample size\n",
    "sample = random.sample(xrange(3, len(rows)-2), size)\n",
    "\n",
    "#for i in sample: # get a subset of the data\n",
    "for i in range(3,len(rows)-2): # get the full dataset\n",
    "    for key, col in zip(keys, cols):\n",
    "            data[key].append(soup('table')[16].findAll('tr')[i].findAll('td')[col])\n"
   ]
  },
  {
   "cell_type": "code",
   "execution_count": 5,
   "metadata": {
    "collapsed": false,
    "scrolled": true
   },
   "outputs": [],
   "source": [
    "# cleanup data\n",
    "floats = ['apex', 'dist', 'elev', 'horiz', 'speed'] # floats\n",
    "for i in range(0,len(data['hitter'])):\n",
    "    for key in keys:\n",
    "        data[key][i] = data[key][i].get_text()\n",
    "        data[key][i] = data[key][i].strip()\n",
    "        data[key][i] = data[key][i].encode('ascii','ignore')\n",
    "    for flo in floats:\n",
    "        data[flo][i] = float(data[flo][i])"
   ]
  },
  {
   "cell_type": "code",
   "execution_count": 6,
   "metadata": {
    "collapsed": false
   },
   "outputs": [],
   "source": [
    "# change names to First Last\n",
    "data['hitter'] = [h.split(',')[1] + \" \" + h.split(',')[0] for h in data['hitter']]\n",
    "data['pitcher'] = [p.split(',')[1] + \" \" + p.split(',')[0] for p in data['pitcher']]"
   ]
  },
  {
   "cell_type": "code",
   "execution_count": 10,
   "metadata": {
    "collapsed": false,
    "scrolled": true
   },
   "outputs": [],
   "source": [
    "df = pd.DataFrame(data)\n",
    "df = df[df.dist != 0] # remove row if dist == 0"
   ]
  },
  {
   "cell_type": "code",
   "execution_count": 11,
   "metadata": {
    "collapsed": false
   },
   "outputs": [],
   "source": [
    "df.to_csv(\"hr_data.csv\")"
   ]
  },
  {
   "cell_type": "code",
   "execution_count": null,
   "metadata": {
    "collapsed": true
   },
   "outputs": [],
   "source": []
  }
 ],
 "metadata": {
  "kernelspec": {
   "display_name": "Python 2",
   "language": "python",
   "name": "python2"
  },
  "language_info": {
   "codemirror_mode": {
    "name": "ipython",
    "version": 2
   },
   "file_extension": ".py",
   "mimetype": "text/x-python",
   "name": "python",
   "nbconvert_exporter": "python",
   "pygments_lexer": "ipython2",
   "version": "2.7.9"
  }
 },
 "nbformat": 4,
 "nbformat_minor": 0
}
