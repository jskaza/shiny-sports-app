{
 "cells": [
  {
   "cell_type": "code",
   "execution_count": 18,
   "metadata": {
    "collapsed": false
   },
   "outputs": [],
   "source": [
    "import numpy as np\n",
    "import pandas as pd\n",
    "import random\n",
    "from bs4 import BeautifulSoup\n",
    "import urllib2"
   ]
  },
  {
   "cell_type": "code",
   "execution_count": 19,
   "metadata": {
    "collapsed": false
   },
   "outputs": [
    {
     "name": "stdout",
     "output_type": "stream",
     "text": [
      "MLB HR soup created\n"
     ]
    }
   ],
   "source": [
    "soup = BeautifulSoup(urllib2.urlopen('http://www.hittrackeronline.com/index.php?perpage=10000', timeout = 60).read(), 'html.parser') # read-in website\n",
    "print \"MLB HR soup created\""
   ]
  },
  {
   "cell_type": "code",
   "execution_count": 20,
   "metadata": {
    "collapsed": false
   },
   "outputs": [
    {
     "name": "stdout",
     "output_type": "stream",
     "text": [
      "The MLB HR data has 4912 rows\n"
     ]
    }
   ],
   "source": [
    "my_table = soup('table')[16] # table 16 has 2015 season hrs \n",
    "rows = my_table.findChildren(['tr'])\n",
    "print \"The MLB HR data has\", len(rows), \"rows\""
   ]
  },
  {
   "cell_type": "code",
   "execution_count": 21,
   "metadata": {
    "collapsed": false
   },
   "outputs": [],
   "source": [
    "data = {'hitter': [], # hitter name\n",
    "        'pitcher': [], # pitcher name\n",
    "        'class': [], # hr classification\n",
    "        'dist': [], # hr dist\n",
    "        'speed': [], # speed off bat\n",
    "        'apex': [], # hit apex\n",
    "        'elev': [], # elevation angle\n",
    "        'horiz': [] # horizontal angle\n",
    "        }\n",
    "\n",
    "keys = ['hitter', 'pitcher', 'class', 'dist', 'speed', 'apex', 'elev', 'horiz'] # need this because keys data.keys() prints in strange order\n",
    "cols = [3, 5, 9, 10, 11, 14, 12, 13]\n",
    "\n",
    "size = 50 # set sample size\n",
    "sample = random.sample(xrange(3, len(rows)-2), size)\n",
    "\n",
    "#for i in sample: # get a subset of the data\n",
    "for i in range(3,len(rows)-2): # get the full dataset\n",
    "    x=rows[i]\n",
    "    for key, col in zip(keys, cols):\n",
    "        data[key].append(x.findAll('td')[col])"
   ]
  },
  {
   "cell_type": "code",
   "execution_count": 22,
   "metadata": {
    "collapsed": false,
    "scrolled": true
   },
   "outputs": [],
   "source": [
    "# cleanup data\n",
    "floats = ['apex', 'dist', 'elev', 'horiz', 'speed'] # floats\n",
    "for i in range(0,len(data['hitter'])):\n",
    "    for key in keys:\n",
    "        data[key][i] = data[key][i].get_text()\n",
    "        data[key][i] = data[key][i].strip()\n",
    "        data[key][i] = data[key][i].encode('ascii','ignore')\n",
    "    for flo in floats:\n",
    "        data[flo][i] = float(data[flo][i])"
   ]
  },
  {
   "cell_type": "code",
   "execution_count": 23,
   "metadata": {
    "collapsed": false
   },
   "outputs": [],
   "source": [
    "# change names to First Last\n",
    "data['hitter'] = [h.split(',')[1] + \" \" + h.split(',')[0] for h in data['hitter']]\n",
    "data['pitcher'] = [p.split(',')[1] + \" \" + p.split(',')[0] for p in data['pitcher']]"
   ]
  },
  {
   "cell_type": "code",
   "execution_count": 24,
   "metadata": {
    "collapsed": false,
    "scrolled": true
   },
   "outputs": [
    {
     "name": "stdout",
     "output_type": "stream",
     "text": [
      "The number of missings is 4\n"
     ]
    }
   ],
   "source": [
    "df = pd.DataFrame(data)\n",
    "print \"The number of missings is\", df.count()[\"hitter\"] - df[df.dist > 0].count()[\"hitter\"] \n",
    "df = df[df.dist != 0] # remove row if dist == 0"
   ]
  },
  {
   "cell_type": "code",
   "execution_count": 25,
   "metadata": {
    "collapsed": true
   },
   "outputs": [],
   "source": [
    "def flip_horiz(row):\n",
    "    if row['horiz'] > 90:\n",
    "        return row['horiz'] - 2*(row['horiz'] - 90)\n",
    "    elif row['horiz'] < 90:\n",
    "        return row['horiz'] + 2*(90 - row['horiz'])\n",
    "    else:\n",
    "        return 90"
   ]
  },
  {
   "cell_type": "code",
   "execution_count": 26,
   "metadata": {
    "collapsed": false
   },
   "outputs": [
    {
     "data": {
      "text/plain": [
       "0     101.3\n",
       "1      87.8\n",
       "2      84.9\n",
       "3      76.9\n",
       "4      90.0\n",
       "5      97.2\n",
       "6      87.8\n",
       "7      61.1\n",
       "8      85.8\n",
       "9      72.1\n",
       "10     87.3\n",
       "11     68.7\n",
       "12     82.7\n",
       "13     75.5\n",
       "14    106.2\n",
       "...\n",
       "4892     73.9\n",
       "4893     96.6\n",
       "4894     75.1\n",
       "4895     62.3\n",
       "4896     73.8\n",
       "4897     70.7\n",
       "4898    121.6\n",
       "4899    100.6\n",
       "4900    110.9\n",
       "4901     71.6\n",
       "4902    118.4\n",
       "4903    111.1\n",
       "4904     64.3\n",
       "4905    125.1\n",
       "4906     54.3\n",
       "Length: 4903, dtype: float64"
      ]
     },
     "execution_count": 26,
     "metadata": {},
     "output_type": "execute_result"
    }
   ],
   "source": [
    "df.apply (lambda row: flip_horiz(row),axis=1)"
   ]
  },
  {
   "cell_type": "code",
   "execution_count": 27,
   "metadata": {
    "collapsed": true
   },
   "outputs": [],
   "source": [
    "df['horiz_flipped'] = df.apply (lambda row: flip_horiz(row),axis=1)"
   ]
  },
  {
   "cell_type": "code",
   "execution_count": 28,
   "metadata": {
    "collapsed": false
   },
   "outputs": [],
   "source": [
    "df.to_csv(\"sports-viz-app/data/hr_data_2015.csv\", index=False)"
   ]
  },
  {
   "cell_type": "code",
   "execution_count": 29,
   "metadata": {
    "collapsed": false
   },
   "outputs": [
    {
     "name": "stdout",
     "output_type": "stream",
     "text": [
      "hr_data.csv updated\n"
     ]
    }
   ],
   "source": [
    "print \"hr_data.csv updated\""
   ]
  },
  {
   "cell_type": "code",
   "execution_count": null,
   "metadata": {
    "collapsed": true
   },
   "outputs": [],
   "source": []
  }
 ],
 "metadata": {
  "kernelspec": {
   "display_name": "Python 2",
   "language": "python",
   "name": "python2"
  },
  "language_info": {
   "codemirror_mode": {
    "name": "ipython",
    "version": 2
   },
   "file_extension": ".py",
   "mimetype": "text/x-python",
   "name": "python",
   "nbconvert_exporter": "python",
   "pygments_lexer": "ipython2",
   "version": "2.7.11"
  }
 },
 "nbformat": 4,
 "nbformat_minor": 0
}
