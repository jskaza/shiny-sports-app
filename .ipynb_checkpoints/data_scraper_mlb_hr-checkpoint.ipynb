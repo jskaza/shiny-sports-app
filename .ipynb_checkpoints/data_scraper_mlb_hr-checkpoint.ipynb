{
 "cells": [
  {
   "cell_type": "code",
   "execution_count": 3,
   "metadata": {
    "collapsed": false
   },
   "outputs": [],
   "source": [
    "import numpy as np\n",
    "import pandas as pd\n",
    "import random\n",
    "from bs4 import BeautifulSoup\n",
    "import urllib2"
   ]
  },
  {
   "cell_type": "code",
   "execution_count": 4,
   "metadata": {
    "collapsed": false
   },
   "outputs": [
    {
     "name": "stdout",
     "output_type": "stream",
     "text": [
      "MLB HR soup created\n"
     ]
    }
   ],
   "source": [
    "soup = BeautifulSoup(urllib2.urlopen('http://www.hittrackeronline.com/index.php?perpage=10000', timeout = 60).read(), 'html.parser') # read-in website\n",
    "print \"MLB HR soup created\""
   ]
  },
  {
   "cell_type": "code",
   "execution_count": 5,
   "metadata": {
    "collapsed": false
   },
   "outputs": [
    {
     "name": "stdout",
     "output_type": "stream",
     "text": [
      "The MLB HR data has 4912 rows\n"
     ]
    }
   ],
   "source": [
    "my_table = soup('table')[16] # table 16 has 2015 season hrs \n",
    "rows = my_table.findChildren(['tr'])\n",
    "print \"The MLB HR data has\", len(rows), \"rows\""
   ]
  },
  {
   "cell_type": "code",
   "execution_count": 6,
   "metadata": {
    "collapsed": false
   },
   "outputs": [],
   "source": [
    "data = {'hitter': [], # hitter name\n",
    "        'pitcher': [], # pitcher name\n",
    "        'dist': [], # hr dist\n",
    "        'speed': [], # speed off bat\n",
    "        'apex': [], # hit apex\n",
    "        'elev': [], # elevation angle\n",
    "        'horiz': [] # horizontal angle\n",
    "        }\n",
    "\n",
    "keys = ['hitter', 'pitcher', 'dist', 'speed', 'apex', 'elev', 'horiz'] # need this because keys data.keys() prints in strange order\n",
    "cols = [3, 5, 10, 11, 14, 12, 13]\n",
    "\n",
    "size = 50 # set sample size\n",
    "sample = random.sample(xrange(3, len(rows)-2), size)\n",
    "\n",
    "#for i in sample: # get a subset of the data\n",
    "for i in range(3,len(rows)-2): # get the full dataset\n",
    "    x=rows[i]\n",
    "    for key, col in zip(keys, cols):\n",
    "        data[key].append(x.findAll('td')[col])\n",
    "            #data[key].append(soup('table')[16].findAll('tr')[i].findAll('td')[col])\n"
   ]
  },
  {
   "cell_type": "code",
   "execution_count": 5,
   "metadata": {
    "collapsed": false,
    "scrolled": true
   },
   "outputs": [],
   "source": [
    "# cleanup data\n",
    "floats = ['apex', 'dist', 'elev', 'horiz', 'speed'] # floats\n",
    "for i in range(0,len(data['hitter'])):\n",
    "    for key in keys:\n",
    "        data[key][i] = data[key][i].get_text()\n",
    "        data[key][i] = data[key][i].strip()\n",
    "        data[key][i] = data[key][i].encode('ascii','ignore')\n",
    "    for flo in floats:\n",
    "        data[flo][i] = float(data[flo][i])"
   ]
  },
  {
   "cell_type": "code",
   "execution_count": 6,
   "metadata": {
    "collapsed": false
   },
   "outputs": [],
   "source": [
    "# change names to First Last\n",
    "data['hitter'] = [h.split(',')[1] + \" \" + h.split(',')[0] for h in data['hitter']]\n",
    "data['pitcher'] = [p.split(',')[1] + \" \" + p.split(',')[0] for p in data['pitcher']]"
   ]
  },
  {
   "cell_type": "code",
   "execution_count": 7,
   "metadata": {
    "collapsed": false,
    "scrolled": true
   },
   "outputs": [
    {
     "name": "stdout",
     "output_type": "stream",
     "text": [
      "The number of missings is 2\n"
     ]
    }
   ],
   "source": [
    "df = pd.DataFrame(data)\n",
    "print \"The number of missings is\", df.count()[\"hitter\"] - df[df.dist > 0].count()[\"hitter\"] \n",
    "df = df[df.dist != 0] # remove row if dist == 0"
   ]
  },
  {
   "cell_type": "code",
   "execution_count": 10,
   "metadata": {
    "collapsed": true
   },
   "outputs": [],
   "source": [
    "def flip_horiz(row):\n",
    "    if row['horiz'] > 90:\n",
    "        return row['horiz'] - 2*(row['horiz'] - 90)\n",
    "    elif row['horiz'] < 90:\n",
    "        return row['horiz'] + 2*(90 - row['horiz'])\n",
    "    else:\n",
    "        return 90"
   ]
  },
  {
   "cell_type": "code",
   "execution_count": 11,
   "metadata": {
    "collapsed": false
   },
   "outputs": [
    {
     "data": {
      "text/plain": [
       "0      69.1\n",
       "1      95.6\n",
       "2      90.5\n",
       "3      86.8\n",
       "4      73.6\n",
       "5      90.3\n",
       "6      92.4\n",
       "7      96.7\n",
       "8      75.7\n",
       "9      77.5\n",
       "10    113.1\n",
       "11     86.3\n",
       "12    109.3\n",
       "13     94.3\n",
       "14     75.8\n",
       "...\n",
       "2904     73.9\n",
       "2905     96.6\n",
       "2906     75.1\n",
       "2907     62.3\n",
       "2908     73.8\n",
       "2909     70.7\n",
       "2910    121.6\n",
       "2911    100.6\n",
       "2912    110.9\n",
       "2913     71.6\n",
       "2914    118.4\n",
       "2915    111.1\n",
       "2916     64.3\n",
       "2917    125.1\n",
       "2918     54.3\n",
       "Length: 2917, dtype: float64"
      ]
     },
     "execution_count": 11,
     "metadata": {},
     "output_type": "execute_result"
    }
   ],
   "source": [
    "df.apply (lambda row: flip_horiz(row),axis=1)"
   ]
  },
  {
   "cell_type": "code",
   "execution_count": 12,
   "metadata": {
    "collapsed": true
   },
   "outputs": [],
   "source": [
    "df['horiz_flipped'] = df.apply (lambda row: flip_horiz(row),axis=1)"
   ]
  },
  {
   "cell_type": "code",
   "execution_count": 15,
   "metadata": {
    "collapsed": false
   },
   "outputs": [],
   "source": [
    "df.to_csv(\"hr_data_2015.csv\", index=False)"
   ]
  },
  {
   "cell_type": "code",
   "execution_count": 16,
   "metadata": {
    "collapsed": false
   },
   "outputs": [
    {
     "name": "stdout",
     "output_type": "stream",
     "text": [
      "hr_data.csv updated\n"
     ]
    }
   ],
   "source": [
    "print \"hr_data.csv updated\""
   ]
  },
  {
   "cell_type": "code",
   "execution_count": null,
   "metadata": {
    "collapsed": true
   },
   "outputs": [],
   "source": []
  }
 ],
 "metadata": {
  "kernelspec": {
   "display_name": "Python 2",
   "language": "python",
   "name": "python2"
  },
  "language_info": {
   "codemirror_mode": {
    "name": "ipython",
    "version": 2
   },
   "file_extension": ".py",
   "mimetype": "text/x-python",
   "name": "python",
   "nbconvert_exporter": "python",
   "pygments_lexer": "ipython2",
   "version": "2.7.10"
  }
 },
 "nbformat": 4,
 "nbformat_minor": 0
}
