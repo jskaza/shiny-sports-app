{
 "cells": [
  {
   "cell_type": "code",
   "execution_count": 192,
   "metadata": {
    "collapsed": false
   },
   "outputs": [],
   "source": [
    "import numpy as np\n",
    "import pandas as pd\n",
    "import random\n",
    "from bs4 import BeautifulSoup\n",
    "import urllib2"
   ]
  },
  {
   "cell_type": "code",
   "execution_count": 193,
   "metadata": {
    "collapsed": false
   },
   "outputs": [],
   "source": [
    "soup = BeautifulSoup(urllib2.urlopen('http://www.pro-football-reference.com/coaches/', timeout = 60).read(), 'html.parser') # read-in website"
   ]
  },
  {
   "cell_type": "code",
   "execution_count": 194,
   "metadata": {
    "collapsed": false
   },
   "outputs": [],
   "source": [
    "my_table = soup('table')[0] # table 0 has coaching data\n",
    "rows = my_table.findChildren(['tr'])"
   ]
  },
  {
   "cell_type": "code",
   "execution_count": 255,
   "metadata": {
    "collapsed": false
   },
   "outputs": [
    {
     "name": "stdout",
     "output_type": "stream",
     "text": [
      "0.708\n"
     ]
    }
   ],
   "source": [
    "rows_no_head = [item for index, item in enumerate(rows) if index % 31 != 0]\n",
    "print \"The NFL Coaching data has\", len(rows_no_head), \"rows\"\n",
    "\n",
    "data = {'name': [], # coach name\n",
    "        'yrs': [], # years in football\n",
    "        'g': [], # games\n",
    "        'w': [], # wins\n",
    "        'l': [], # losses\n",
    "        't': [], # ties\n",
    "        'perc': [], # w-l percentage\n",
    "        'poff_g': [], # playoff games\n",
    "        'poff_w': [], # playoff wins\n",
    "        'poff_l': [], # playoff losses\n",
    "        'poff_perc': [], # playoff w-l percentage\n",
    "        'avg_finish': [], # average division finish\n",
    "        'champ': [], # championships (sb + champ before sb era)\n",
    "        'sb': [], # super bowl wins\n",
    "        'conf': [] # conference championships\n",
    "        }\n",
    "\n",
    "keys = ['name', 'yrs', 'g', 'w', 'l', 't', 'perc', 'poff_g', 'poff_w', 'poff_l', 'poff_perc',\n",
    "        'avg_finish', 'champ', 'sb', 'conf'] # need this because keys data.keys() prints in strange order\n",
    "cols = [1, 2, 4, 5, 6, 7, 8, 11, 12, 13, 14, 15, 17, 18, 19]\n",
    "\n",
    "for i in range(len(rows_no_head)):\n",
    "    x=rows_no_head[i]\n",
    "    for key, col in zip(keys, cols):\n",
    "            data[key].append(x.findAll('td')[col])\n",
    "\n",
    "for i in range(len(rows_no_head)):\n",
    "    for key in keys:\n",
    "        data[key][i] = str(data[key][i].get_text())\n",
    "        if key == \"name\":\n",
    "            if data[key][i][-1] == \"+\":\n",
    "                data[key][i] = data[key][i][:-1]\n",
    "        if key in ('yrs', 'g', 'w', 'l', 't', 'poff_g', 'poff_w', 'poff_l', 'champ', 'sb', 'conf'):\n",
    "            if data[key][i] != '':\n",
    "                data[key][i] = int(data[key][i])\n",
    "        if key in ('perc', 'poff_perc', 'avg_finish'):\n",
    "            if data[key][i] != '':\n",
    "                data[key][i] = float(data[key][i])\n"
   ]
  },
  {
   "cell_type": "code",
   "execution_count": 256,
   "metadata": {
    "collapsed": false,
    "scrolled": true
   },
   "outputs": [],
   "source": [
    "df = pd.DataFrame(data)"
   ]
  },
  {
   "cell_type": "code",
   "execution_count": 257,
   "metadata": {
    "collapsed": false
   },
   "outputs": [
    {
     "data": {
      "text/html": [
       "<div style=\"max-height:1000px;max-width:1500px;overflow:auto;\">\n",
       "<table border=\"1\" class=\"dataframe\">\n",
       "  <thead>\n",
       "    <tr style=\"text-align: right;\">\n",
       "      <th></th>\n",
       "      <th>avg_finish</th>\n",
       "      <th>champ</th>\n",
       "      <th>conf</th>\n",
       "      <th>g</th>\n",
       "      <th>l</th>\n",
       "      <th>name</th>\n",
       "      <th>perc</th>\n",
       "      <th>poff_g</th>\n",
       "      <th>poff_l</th>\n",
       "      <th>poff_perc</th>\n",
       "      <th>poff_w</th>\n",
       "      <th>sb</th>\n",
       "      <th>t</th>\n",
       "      <th>w</th>\n",
       "      <th>yrs</th>\n",
       "    </tr>\n",
       "  </thead>\n",
       "  <tbody>\n",
       "    <tr>\n",
       "      <th>0</th>\n",
       "      <td> 11.0</td>\n",
       "      <td> 0</td>\n",
       "      <td> 0</td>\n",
       "      <td>  13</td>\n",
       "      <td> 13</td>\n",
       "      <td>     Fay Abbott</td>\n",
       "      <td> 0.000</td>\n",
       "      <td> 0</td>\n",
       "      <td> 0</td>\n",
       "      <td>      </td>\n",
       "      <td> 0</td>\n",
       "      <td> 0</td>\n",
       "      <td> 0</td>\n",
       "      <td>   0</td>\n",
       "      <td>  2</td>\n",
       "    </tr>\n",
       "    <tr>\n",
       "      <th>1</th>\n",
       "      <td>  2.7</td>\n",
       "      <td> 0</td>\n",
       "      <td> 0</td>\n",
       "      <td>  36</td>\n",
       "      <td> 16</td>\n",
       "      <td> Frankie Albert</td>\n",
       "      <td> 0.543</td>\n",
       "      <td> 1</td>\n",
       "      <td> 1</td>\n",
       "      <td>     0</td>\n",
       "      <td> 0</td>\n",
       "      <td> 0</td>\n",
       "      <td> 1</td>\n",
       "      <td>  19</td>\n",
       "      <td>  3</td>\n",
       "    </tr>\n",
       "    <tr>\n",
       "      <th>2</th>\n",
       "      <td> 10.5</td>\n",
       "      <td> 0</td>\n",
       "      <td> 0</td>\n",
       "      <td>  18</td>\n",
       "      <td>  8</td>\n",
       "      <td>  Doc Alexander</td>\n",
       "      <td> 0.500</td>\n",
       "      <td> 0</td>\n",
       "      <td> 0</td>\n",
       "      <td>      </td>\n",
       "      <td> 0</td>\n",
       "      <td> 0</td>\n",
       "      <td> 2</td>\n",
       "      <td>   8</td>\n",
       "      <td>  2</td>\n",
       "    </tr>\n",
       "    <tr>\n",
       "      <th>3</th>\n",
       "      <td>  3.7</td>\n",
       "      <td>  </td>\n",
       "      <td>  </td>\n",
       "      <td>  36</td>\n",
       "      <td> 28</td>\n",
       "      <td>   Dennis Allen</td>\n",
       "      <td> 0.222</td>\n",
       "      <td> 0</td>\n",
       "      <td> 0</td>\n",
       "      <td>      </td>\n",
       "      <td> 0</td>\n",
       "      <td>  </td>\n",
       "      <td> 0</td>\n",
       "      <td>   8</td>\n",
       "      <td>  3</td>\n",
       "    </tr>\n",
       "    <tr>\n",
       "      <th>4</th>\n",
       "      <td>  1.9</td>\n",
       "      <td> 0</td>\n",
       "      <td> 1</td>\n",
       "      <td> 168</td>\n",
       "      <td> 47</td>\n",
       "      <td>   George Allen</td>\n",
       "      <td> 0.712</td>\n",
       "      <td> 9</td>\n",
       "      <td> 7</td>\n",
       "      <td> 0.222</td>\n",
       "      <td> 2</td>\n",
       "      <td> 0</td>\n",
       "      <td> 5</td>\n",
       "      <td> 116</td>\n",
       "      <td> 12</td>\n",
       "    </tr>\n",
       "  </tbody>\n",
       "</table>\n",
       "</div>"
      ],
      "text/plain": [
       "   avg_finish champ conf    g   l            name   perc  poff_g  poff_l  \\\n",
       "0        11.0     0    0   13  13      Fay Abbott  0.000       0       0   \n",
       "1         2.7     0    0   36  16  Frankie Albert  0.543       1       1   \n",
       "2        10.5     0    0   18   8   Doc Alexander  0.500       0       0   \n",
       "3         3.7              36  28    Dennis Allen  0.222       0       0   \n",
       "4         1.9     0    1  168  47    George Allen  0.712       9       7   \n",
       "\n",
       "  poff_perc  poff_w sb  t    w  yrs  \n",
       "0                 0  0  0    0    2  \n",
       "1         0       0  0  1   19    3  \n",
       "2                 0  0  2    8    2  \n",
       "3                 0     0    8    3  \n",
       "4     0.222       2  0  5  116   12  "
      ]
     },
     "execution_count": 257,
     "metadata": {},
     "output_type": "execute_result"
    }
   ],
   "source": [
    "df.head()"
   ]
  },
  {
   "cell_type": "code",
   "execution_count": 258,
   "metadata": {
    "collapsed": false
   },
   "outputs": [],
   "source": [
    "df.to_csv(\"nfl_coaches.csv\", index=False)"
   ]
  },
  {
   "cell_type": "code",
   "execution_count": null,
   "metadata": {
    "collapsed": true
   },
   "outputs": [],
   "source": [
    "print \"nfl_coaches.csv updated\""
   ]
  }
 ],
 "metadata": {
  "kernelspec": {
   "display_name": "Python 2",
   "language": "python",
   "name": "python2"
  },
  "language_info": {
   "codemirror_mode": {
    "name": "ipython",
    "version": 2
   },
   "file_extension": ".py",
   "mimetype": "text/x-python",
   "name": "python",
   "nbconvert_exporter": "python",
   "pygments_lexer": "ipython2",
   "version": "2.7.9"
  }
 },
 "nbformat": 4,
 "nbformat_minor": 0
}
