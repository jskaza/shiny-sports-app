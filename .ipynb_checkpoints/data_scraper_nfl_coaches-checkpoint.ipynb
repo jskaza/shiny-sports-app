{
 "cells": [
  {
   "cell_type": "code",
   "execution_count": 1,
   "metadata": {
    "collapsed": false
   },
   "outputs": [],
   "source": [
    "import numpy as np\n",
    "import pandas as pd\n",
    "import random\n",
    "from bs4 import BeautifulSoup\n",
    "import urllib2"
   ]
  },
  {
   "cell_type": "code",
   "execution_count": 2,
   "metadata": {
    "collapsed": false
   },
   "outputs": [],
   "source": [
    "soup = BeautifulSoup(urllib2.urlopen('http://www.pro-football-reference.com/coaches/', timeout = 60).read(), 'html.parser') # read-in website"
   ]
  },
  {
   "cell_type": "code",
   "execution_count": 3,
   "metadata": {
    "collapsed": false
   },
   "outputs": [],
   "source": [
    "my_table = soup('table')[0] # table 0 has coaching data\n",
    "rows = my_table.findChildren(['tr'])"
   ]
  },
  {
   "cell_type": "code",
   "execution_count": 4,
   "metadata": {
    "collapsed": false
   },
   "outputs": [
    {
     "name": "stdout",
     "output_type": "stream",
     "text": [
      "The NFL Coaching data has 479 rows\n"
     ]
    }
   ],
   "source": [
    "rows_no_head = [item for index, item in enumerate(rows) if index % 31 != 0]\n",
    "print \"The NFL Coaching data has\", len(rows_no_head), \"rows\"\n",
    "\n",
    "data = {'name': [], # coach name\n",
    "        'yrs': [], # years in football\n",
    "        'g': [], # games\n",
    "        'w': [], # wins\n",
    "        'l': [], # losses\n",
    "        't': [], # ties\n",
    "        'perc': [], # w-l percentage\n",
    "        'poff_g': [], # playoff games\n",
    "        'poff_w': [], # playoff wins\n",
    "        'poff_l': [], # playoff losses\n",
    "        'poff_perc': [], # playoff w-l percentage\n",
    "        'avg_finish': [], # average division finish\n",
    "        'champ': [], # championships (sb + champ before sb era)\n",
    "        'sb': [], # super bowl wins\n",
    "        'conf': [] # conference championships\n",
    "        }\n",
    "\n",
    "keys = ['name', 'yrs', 'g', 'w', 'l', 't', 'perc', 'poff_g', 'poff_w', 'poff_l', 'poff_perc',\n",
    "        'avg_finish', 'champ', 'sb', 'conf'] # need this because keys data.keys() prints in strange order\n",
    "cols = [1, 2, 4, 5, 6, 7, 8, 11, 12, 13, 14, 15, 17, 18, 19]\n",
    "\n",
    "for i in range(len(rows_no_head)):\n",
    "    x=rows_no_head[i]\n",
    "    for key, col in zip(keys, cols):\n",
    "            data[key].append(x.findAll('td')[col])\n",
    "\n",
    "for i in range(len(rows_no_head)):\n",
    "    for key in keys:\n",
    "        data[key][i] = str(data[key][i].get_text())\n",
    "        if key == \"name\":\n",
    "            if data[key][i][-1] == \"+\":\n",
    "                data[key][i] = data[key][i][:-1]\n",
    "        if key in ('yrs', 'g', 'w', 'l', 't', 'poff_g', 'poff_w', 'poff_l', 'champ', 'sb', 'conf'):\n",
    "            if data[key][i] != '':\n",
    "                data[key][i] = int(data[key][i])\n",
    "        if key in ('perc', 'poff_perc', 'avg_finish'):\n",
    "            if data[key][i] != '':\n",
    "                data[key][i] = float(data[key][i])\n"
   ]
  },
  {
   "cell_type": "code",
   "execution_count": 5,
   "metadata": {
    "collapsed": false,
    "scrolled": true
   },
   "outputs": [],
   "source": [
    "df = pd.DataFrame(data)"
   ]
  },
  {
   "cell_type": "code",
   "execution_count": 7,
   "metadata": {
    "collapsed": false
   },
   "outputs": [],
   "source": [
    "df.to_csv(\"nfl_coaches.csv\", index=False)"
   ]
  },
  {
   "cell_type": "code",
   "execution_count": 8,
   "metadata": {
    "collapsed": false
   },
   "outputs": [
    {
     "name": "stdout",
     "output_type": "stream",
     "text": [
      "nfl_coaches.csv updated\n"
     ]
    }
   ],
   "source": [
    "print \"nfl_coaches.csv updated\""
   ]
  },
  {
   "cell_type": "code",
   "execution_count": null,
   "metadata": {
    "collapsed": true
   },
   "outputs": [],
   "source": []
  }
 ],
 "metadata": {
  "kernelspec": {
   "display_name": "Python 2",
   "language": "python",
   "name": "python2"
  },
  "language_info": {
   "codemirror_mode": {
    "name": "ipython",
    "version": 2
   },
   "file_extension": ".py",
   "mimetype": "text/x-python",
   "name": "python",
   "nbconvert_exporter": "python",
   "pygments_lexer": "ipython2",
   "version": "2.7.10"
  }
 },
 "nbformat": 4,
 "nbformat_minor": 0
}
